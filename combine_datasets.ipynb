{
 "cells": [
  {
   "cell_type": "code",
   "execution_count": 21,
   "id": "c6a5cf12",
   "metadata": {},
   "outputs": [],
   "source": [
    "import numpy as np\n",
    "import pandas as pd\n",
    "import ast"
   ]
  },
  {
   "cell_type": "code",
   "execution_count": 26,
   "id": "e42fb459",
   "metadata": {},
   "outputs": [],
   "source": [
    "stock_data = pd.read_csv(\"stock_data/final_engineered_stock_data.csv\")\n",
    "sec_8K_data = pd.read_csv(\"sec_finra_data/sec_filings/engineered_8k_filings.csv\")\n",
    "twitter_data = pd.read_csv(\"twitter_data/final_stock_social_sentiment_data.csv\")"
   ]
  },
  {
   "cell_type": "code",
   "execution_count": 27,
   "id": "e52ff415",
   "metadata": {},
   "outputs": [
    {
     "name": "stdout",
     "output_type": "stream",
     "text": [
      "Columns in Stock Data:  Index(['Date', 'Open', 'High', 'Low', 'Close', 'Volume', 'Ticker', 'Return',\n",
      "       'Volatility', 'Volume_Zscore', 'Return_Zscore', 'Manipulation_Flag'],\n",
      "      dtype='object')\n",
      "Columns in SEC 8K Filings Data:  Index(['stock', 'accession_number', 'sentiment_label', 'sentiment_score',\n",
      "       'company_name', 'filing_date', 'report_date', 'cik', 'sic', 'items',\n",
      "       'date_lag', 'risk_score', 'month', 'event_count'],\n",
      "      dtype='object')\n",
      "Columns in Twitter Data:  Index(['id', 'date', 'created_at', 'stock', 'clean_text', 'sentiment_label',\n",
      "       'sentiment_score'],\n",
      "      dtype='object')\n"
     ]
    }
   ],
   "source": [
    "print(\"Columns in Stock Data: \", stock_data.columns)\n",
    "print(\"Columns in SEC 8K Filings Data: \", sec_8K_data.columns)\n",
    "print(\"Columns in Twitter Data: \", twitter_data.columns)"
   ]
  },
  {
   "cell_type": "code",
   "execution_count": 28,
   "id": "76687fec",
   "metadata": {},
   "outputs": [
    {
     "data": {
      "text/html": [
       "<div>\n",
       "<style scoped>\n",
       "    .dataframe tbody tr th:only-of-type {\n",
       "        vertical-align: middle;\n",
       "    }\n",
       "\n",
       "    .dataframe tbody tr th {\n",
       "        vertical-align: top;\n",
       "    }\n",
       "\n",
       "    .dataframe thead th {\n",
       "        text-align: right;\n",
       "    }\n",
       "</style>\n",
       "<table border=\"1\" class=\"dataframe\">\n",
       "  <thead>\n",
       "    <tr style=\"text-align: right;\">\n",
       "      <th></th>\n",
       "      <th>Date</th>\n",
       "      <th>Open</th>\n",
       "      <th>High</th>\n",
       "      <th>Low</th>\n",
       "      <th>Close</th>\n",
       "      <th>Volume</th>\n",
       "      <th>Ticker</th>\n",
       "      <th>Return</th>\n",
       "      <th>Volatility</th>\n",
       "      <th>Volume_Zscore</th>\n",
       "      <th>Return_Zscore</th>\n",
       "      <th>Manipulation_Flag</th>\n",
       "    </tr>\n",
       "  </thead>\n",
       "  <tbody>\n",
       "    <tr>\n",
       "      <th>0</th>\n",
       "      <td>2018-01-02 00:00:00-05:00</td>\n",
       "      <td>39.986349</td>\n",
       "      <td>40.489233</td>\n",
       "      <td>39.774854</td>\n",
       "      <td>40.479832</td>\n",
       "      <td>102223600</td>\n",
       "      <td>AAPL</td>\n",
       "      <td>NaN</td>\n",
       "      <td>NaN</td>\n",
       "      <td>-0.092570</td>\n",
       "      <td>NaN</td>\n",
       "      <td>0</td>\n",
       "    </tr>\n",
       "    <tr>\n",
       "      <th>1</th>\n",
       "      <td>2018-01-03 00:00:00-05:00</td>\n",
       "      <td>40.543277</td>\n",
       "      <td>41.017963</td>\n",
       "      <td>40.409333</td>\n",
       "      <td>40.472778</td>\n",
       "      <td>118071600</td>\n",
       "      <td>AAPL</td>\n",
       "      <td>-0.000174</td>\n",
       "      <td>NaN</td>\n",
       "      <td>0.194878</td>\n",
       "      <td>-0.070361</td>\n",
       "      <td>0</td>\n",
       "    </tr>\n",
       "  </tbody>\n",
       "</table>\n",
       "</div>"
      ],
      "text/plain": [
       "                        Date       Open       High        Low      Close  \\\n",
       "0  2018-01-02 00:00:00-05:00  39.986349  40.489233  39.774854  40.479832   \n",
       "1  2018-01-03 00:00:00-05:00  40.543277  41.017963  40.409333  40.472778   \n",
       "\n",
       "      Volume Ticker    Return  Volatility  Volume_Zscore  Return_Zscore  \\\n",
       "0  102223600   AAPL       NaN         NaN      -0.092570            NaN   \n",
       "1  118071600   AAPL -0.000174         NaN       0.194878      -0.070361   \n",
       "\n",
       "   Manipulation_Flag  \n",
       "0                  0  \n",
       "1                  0  "
      ]
     },
     "execution_count": 28,
     "metadata": {},
     "output_type": "execute_result"
    }
   ],
   "source": [
    "stock_data.head(2)"
   ]
  },
  {
   "cell_type": "code",
   "execution_count": 29,
   "id": "e266dcbf",
   "metadata": {},
   "outputs": [
    {
     "data": {
      "text/html": [
       "<div>\n",
       "<style scoped>\n",
       "    .dataframe tbody tr th:only-of-type {\n",
       "        vertical-align: middle;\n",
       "    }\n",
       "\n",
       "    .dataframe tbody tr th {\n",
       "        vertical-align: top;\n",
       "    }\n",
       "\n",
       "    .dataframe thead th {\n",
       "        text-align: right;\n",
       "    }\n",
       "</style>\n",
       "<table border=\"1\" class=\"dataframe\">\n",
       "  <thead>\n",
       "    <tr style=\"text-align: right;\">\n",
       "      <th></th>\n",
       "      <th>stock</th>\n",
       "      <th>accession_number</th>\n",
       "      <th>sentiment_label</th>\n",
       "      <th>sentiment_score</th>\n",
       "      <th>company_name</th>\n",
       "      <th>filing_date</th>\n",
       "      <th>report_date</th>\n",
       "      <th>cik</th>\n",
       "      <th>sic</th>\n",
       "      <th>items</th>\n",
       "      <th>date_lag</th>\n",
       "      <th>risk_score</th>\n",
       "      <th>month</th>\n",
       "      <th>event_count</th>\n",
       "    </tr>\n",
       "  </thead>\n",
       "  <tbody>\n",
       "    <tr>\n",
       "      <th>0</th>\n",
       "      <td>AAPL</td>\n",
       "      <td>0000320193-18-000005</td>\n",
       "      <td>neutral</td>\n",
       "      <td>0.5</td>\n",
       "      <td>APPLE INC</td>\n",
       "      <td>2018-02-01</td>\n",
       "      <td>2018-02-01</td>\n",
       "      <td>320193</td>\n",
       "      <td>3571</td>\n",
       "      <td>['Results of Operations and Financial Conditio...</td>\n",
       "      <td>0</td>\n",
       "      <td>2</td>\n",
       "      <td>2018-02</td>\n",
       "      <td>2</td>\n",
       "    </tr>\n",
       "    <tr>\n",
       "      <th>1</th>\n",
       "      <td>AAPL</td>\n",
       "      <td>0000320193-18-000067</td>\n",
       "      <td>neutral</td>\n",
       "      <td>0.5</td>\n",
       "      <td>APPLE INC</td>\n",
       "      <td>2018-05-01</td>\n",
       "      <td>2018-05-01</td>\n",
       "      <td>320193</td>\n",
       "      <td>3571</td>\n",
       "      <td>['Results of Operations and Financial Conditio...</td>\n",
       "      <td>0</td>\n",
       "      <td>2</td>\n",
       "      <td>2018-05</td>\n",
       "      <td>2</td>\n",
       "    </tr>\n",
       "  </tbody>\n",
       "</table>\n",
       "</div>"
      ],
      "text/plain": [
       "  stock      accession_number sentiment_label  sentiment_score company_name  \\\n",
       "0  AAPL  0000320193-18-000005         neutral              0.5    APPLE INC   \n",
       "1  AAPL  0000320193-18-000067         neutral              0.5    APPLE INC   \n",
       "\n",
       "  filing_date report_date     cik   sic  \\\n",
       "0  2018-02-01  2018-02-01  320193  3571   \n",
       "1  2018-05-01  2018-05-01  320193  3571   \n",
       "\n",
       "                                               items  date_lag  risk_score  \\\n",
       "0  ['Results of Operations and Financial Conditio...         0           2   \n",
       "1  ['Results of Operations and Financial Conditio...         0           2   \n",
       "\n",
       "     month  event_count  \n",
       "0  2018-02            2  \n",
       "1  2018-05            2  "
      ]
     },
     "execution_count": 29,
     "metadata": {},
     "output_type": "execute_result"
    }
   ],
   "source": [
    "sec_8K_data.head(2)"
   ]
  },
  {
   "cell_type": "code",
   "execution_count": 30,
   "id": "1d2c5b8a",
   "metadata": {},
   "outputs": [
    {
     "data": {
      "text/html": [
       "<div>\n",
       "<style scoped>\n",
       "    .dataframe tbody tr th:only-of-type {\n",
       "        vertical-align: middle;\n",
       "    }\n",
       "\n",
       "    .dataframe tbody tr th {\n",
       "        vertical-align: top;\n",
       "    }\n",
       "\n",
       "    .dataframe thead th {\n",
       "        text-align: right;\n",
       "    }\n",
       "</style>\n",
       "<table border=\"1\" class=\"dataframe\">\n",
       "  <thead>\n",
       "    <tr style=\"text-align: right;\">\n",
       "      <th></th>\n",
       "      <th>id</th>\n",
       "      <th>date</th>\n",
       "      <th>created_at</th>\n",
       "      <th>stock</th>\n",
       "      <th>clean_text</th>\n",
       "      <th>sentiment_label</th>\n",
       "      <th>sentiment_score</th>\n",
       "    </tr>\n",
       "  </thead>\n",
       "  <tbody>\n",
       "    <tr>\n",
       "      <th>0</th>\n",
       "      <td>13</td>\n",
       "      <td>2020-04-09</td>\n",
       "      <td>2020-04-09 23:56:58+00:00</td>\n",
       "      <td>AAPL</td>\n",
       "      <td>RT : 📽️ panel assesses the big questions $AAPL...</td>\n",
       "      <td>neutral</td>\n",
       "      <td>0.941471</td>\n",
       "    </tr>\n",
       "    <tr>\n",
       "      <th>1</th>\n",
       "      <td>14</td>\n",
       "      <td>2020-04-09</td>\n",
       "      <td>2020-04-09 23:56:51+00:00</td>\n",
       "      <td>AAPL;TSLA;TLRY;GME</td>\n",
       "      <td>$UMRX bouncing. EXTREMELY OVERSOLD 💸 $DECN $OP...</td>\n",
       "      <td>neutral</td>\n",
       "      <td>0.646453</td>\n",
       "    </tr>\n",
       "  </tbody>\n",
       "</table>\n",
       "</div>"
      ],
      "text/plain": [
       "   id        date                 created_at               stock  \\\n",
       "0  13  2020-04-09  2020-04-09 23:56:58+00:00                AAPL   \n",
       "1  14  2020-04-09  2020-04-09 23:56:51+00:00  AAPL;TSLA;TLRY;GME   \n",
       "\n",
       "                                          clean_text sentiment_label  \\\n",
       "0  RT : 📽️ panel assesses the big questions $AAPL...         neutral   \n",
       "1  $UMRX bouncing. EXTREMELY OVERSOLD 💸 $DECN $OP...         neutral   \n",
       "\n",
       "   sentiment_score  \n",
       "0         0.941471  \n",
       "1         0.646453  "
      ]
     },
     "execution_count": 30,
     "metadata": {},
     "output_type": "execute_result"
    }
   ],
   "source": [
    "twitter_data.head(2)"
   ]
  },
  {
   "cell_type": "code",
   "execution_count": null,
   "id": "8eefab3f",
   "metadata": {},
   "outputs": [],
   "source": []
  }
 ],
 "metadata": {
  "kernelspec": {
   "display_name": "base",
   "language": "python",
   "name": "python3"
  },
  "language_info": {
   "codemirror_mode": {
    "name": "ipython",
    "version": 3
   },
   "file_extension": ".py",
   "mimetype": "text/x-python",
   "name": "python",
   "nbconvert_exporter": "python",
   "pygments_lexer": "ipython3",
   "version": "3.12.4"
  }
 },
 "nbformat": 4,
 "nbformat_minor": 5
}
